{
  "cells": [
    {
      "cell_type": "markdown",
      "metadata": {
        "id": "CvbYd7a0GjTa"
      },
      "source": [
        "### CNN model"
      ]
    },
    {
      "cell_type": "code",
      "execution_count": 14,
      "metadata": {
        "id": "uGu3cW3o9YrI"
      },
      "outputs": [],
      "source": [
        "import torch\n",
        "import torch.nn as nn\n",
        "import torch.optim as optim\n",
        "from torch.utils.data import DataLoader, TensorDataset\n",
        "from torchvision import datasets, transforms\n",
        "from sklearn.metrics import accuracy_score, confusion_matrix, precision_score, recall_score\n",
        "from torch.utils.tensorboard import SummaryWriter\n",
        "import numpy as np\n",
        "import matplotlib.pyplot as plt"
      ]
    },
    {
      "cell_type": "code",
      "execution_count": 15,
      "metadata": {
        "id": "owi2kWUo-YhW"
      },
      "outputs": [],
      "source": [
        "transform = transforms.Compose([\n",
        "    transforms.ToTensor(),\n",
        "    transforms.Normalize((0.5,), (0.5,))\n",
        "])"
      ]
    },
    {
      "cell_type": "code",
      "execution_count": 16,
      "metadata": {
        "id": "KC7gHKVw-uYz"
      },
      "outputs": [],
      "source": [
        "train_data = datasets.USPS(root='data', train=True, download=True, transform=transform)\n",
        "test_data = datasets.USPS(root='data', train=False, download=True, transform=transform)"
      ]
    },
    {
      "cell_type": "code",
      "execution_count": 17,
      "metadata": {
        "id": "msrHrH9V-0p7"
      },
      "outputs": [],
      "source": [
        "train_loader = DataLoader(train_data, batch_size=32, shuffle=True, num_workers = 2)\n",
        "test_loader = DataLoader(test_data, batch_size=32, shuffle=False, num_workers = 2)"
      ]
    },
    {
      "cell_type": "code",
      "execution_count": 18,
      "metadata": {
        "id": "ufPY4kws_Fz_"
      },
      "outputs": [],
      "source": [
        "data , images = next(iter(train_loader))"
      ]
    },
    {
      "cell_type": "code",
      "execution_count": 19,
      "metadata": {
        "id": "P2yk-b4g_M0V"
      },
      "outputs": [],
      "source": [
        "first_image = data[0:1]"
      ]
    },
    {
      "cell_type": "code",
      "execution_count": 20,
      "metadata": {
        "id": "z6lom9G6_f4A"
      },
      "outputs": [],
      "source": [
        "class CNN_with_MLP(nn.Module):\n",
        "  def __init__(self):\n",
        "    super(CNN_with_MLP,self).__init__()\n",
        "\n",
        "    self.conv1 = nn.Sequential(\n",
        "        nn.Conv2d(in_channels = 1, out_channels=32,kernel_size=3),\n",
        "        nn.ReLU(),\n",
        "        nn.MaxPool2d(kernel_size=2)\n",
        "    )\n",
        "\n",
        "    self.conv2 = nn.Sequential(\n",
        "        nn.Conv2d(in_channels = 32, out_channels=64,kernel_size=3),\n",
        "        nn.ReLU(),\n",
        "        nn.MaxPool2d(kernel_size=2)\n",
        "    )\n",
        "\n",
        "    self.FC1 = nn.Linear(256,128)\n",
        "    self.FC2 = nn.Linear(128,10)\n",
        "\n",
        "  def forward(self,X):\n",
        "    X = self.conv1(X)\n",
        "    X = self.conv2(X)\n",
        "\n",
        "    flatten = nn.Flatten()\n",
        "    relu = nn.ReLU()\n",
        "\n",
        "    X = flatten(X)\n",
        "    X = self.FC1(X)\n",
        "    X = relu(X)\n",
        "\n",
        "    X = self.FC2(X)\n",
        "\n",
        "    return X\n",
        "\n"
      ]
    },
    {
      "cell_type": "code",
      "execution_count": 21,
      "metadata": {
        "colab": {
          "base_uri": "https://localhost:8080/"
        },
        "id": "Eq-vHkjsCJkX",
        "outputId": "f34f0662-999f-4cb8-b5c7-b3eff621d566"
      },
      "outputs": [
        {
          "data": {
            "text/plain": [
              "device(type='cuda')"
            ]
          },
          "execution_count": 21,
          "metadata": {},
          "output_type": "execute_result"
        }
      ],
      "source": [
        "device = torch.device('cuda' if torch.cuda.is_available() else 'cpu')\n",
        "device"
      ]
    },
    {
      "cell_type": "code",
      "execution_count": 22,
      "metadata": {
        "id": "yhlSKaqiCCbH"
      },
      "outputs": [],
      "source": [
        "cnn_model = CNN_with_MLP()\n",
        "# cnn_model.to(device)"
      ]
    },
    {
      "cell_type": "code",
      "execution_count": 23,
      "metadata": {
        "id": "Wnnr4dBVCUeE"
      },
      "outputs": [],
      "source": [
        "loss_fn = nn.CrossEntropyLoss()\n",
        "optimizer = optim.Adam(cnn_model.parameters(), lr=0.001)"
      ]
    },
    {
      "cell_type": "code",
      "execution_count": 24,
      "metadata": {
        "id": "S3cxQQhzCi-D"
      },
      "outputs": [],
      "source": [
        "cnn_writer = SummaryWriter('logs/cnn')"
      ]
    },
    {
      "cell_type": "code",
      "execution_count": 25,
      "metadata": {
        "id": "9iAdFMrqC8Ug"
      },
      "outputs": [],
      "source": [
        "def evaluate_model(model, dataloader):\n",
        "    model.eval()\n",
        "    all_labels = []\n",
        "    all_preds = []\n",
        "    with torch.no_grad():\n",
        "        for inputs, labels in dataloader:\n",
        "            # inputs = inputs.to(device)\n",
        "            # labels = labels.to(device)\n",
        "            outputs = model(inputs)\n",
        "            _, predicted = torch.max(outputs, 1)\n",
        "            all_labels.extend(labels.numpy())\n",
        "            all_preds.extend(predicted.numpy())\n",
        "    accuracy = accuracy_score(all_labels, all_preds)\n",
        "    precision = precision_score(all_labels, all_preds, average='macro')\n",
        "    recall = recall_score(all_labels, all_preds, average='macro')\n",
        "    cm = confusion_matrix(all_labels, all_preds)\n",
        "    return accuracy, precision, recall, cm"
      ]
    },
    {
      "cell_type": "code",
      "execution_count": 26,
      "metadata": {
        "colab": {
          "base_uri": "https://localhost:8080/"
        },
        "id": "GVxgPo5jCnJS",
        "outputId": "9fdc7f97-5885-400e-876a-e3470e6efe9a"
      },
      "outputs": [
        {
          "name": "stdout",
          "output_type": "stream",
          "text": [
            "Epoch 0 Loss: 0.6518504053615687, Accuracy: 0.8988540109616343, Precision: 0.8932895155559756, Recall: 0.8929336171936308\n",
            "Epoch 1 Loss: 0.1760012608291091, Accuracy: 0.9292476332835077, Precision: 0.9295094279193016, Recall: 0.9198088764801898\n",
            "Epoch 2 Loss: 0.11237915969461922, Accuracy: 0.9302441454907823, Precision: 0.928160807412076, Recall: 0.9218634133381298\n",
            "Epoch 3 Loss: 0.08371601714099054, Accuracy: 0.9402092675635276, Precision: 0.9375138051406797, Recall: 0.9337914534275018\n",
            "Epoch 4 Loss: 0.06643281937188779, Accuracy: 0.9491778774289985, Precision: 0.9454421100035864, Recall: 0.9439149893815708\n",
            "Epoch 5 Loss: 0.050916062105291836, Accuracy: 0.9466865969108121, Precision: 0.9456752522396952, Recall: 0.9404349938183924\n",
            "Epoch 6 Loss: 0.04447768539498691, Accuracy: 0.9456900847035377, Precision: 0.9418867628221049, Recall: 0.9404950190859171\n",
            "Epoch 7 Loss: 0.03454619239078296, Accuracy: 0.9481813652217239, Precision: 0.9445729299897796, Recall: 0.9431378396688939\n",
            "Epoch 8 Loss: 0.023537865341942257, Accuracy: 0.9501743896362731, Precision: 0.945183010564309, Recall: 0.9458010989417532\n",
            "Epoch 9 Loss: 0.022257911390241997, Accuracy: 0.9526656701544594, Precision: 0.9523488734543604, Recall: 0.9478319734807965\n",
            "Epoch 10 Loss: 0.016079547720182108, Accuracy: 0.9531639262580966, Precision: 0.9499430263926071, Recall: 0.949154675783498\n",
            "Epoch 11 Loss: 0.01481649018266277, Accuracy: 0.9576482311908321, Precision: 0.9529474403165128, Recall: 0.9539599352090754\n",
            "Epoch 12 Loss: 0.01584456727805286, Accuracy: 0.9551569506726457, Precision: 0.9523262599367825, Recall: 0.9504955769383427\n",
            "Epoch 13 Loss: 0.013067781546532499, Accuracy: 0.9506726457399103, Precision: 0.945070959176021, Recall: 0.948181165963492\n",
            "Epoch 14 Loss: 0.013114943389857154, Accuracy: 0.9496761335326358, Precision: 0.9466837608136176, Recall: 0.9452910830527091\n",
            "Epoch 15 Loss: 0.010369424711634087, Accuracy: 0.9566517189835575, Precision: 0.9535182125585019, Recall: 0.9532475948478675\n",
            "Epoch 16 Loss: 0.015480411895065086, Accuracy: 0.9476831091180867, Precision: 0.9439224488288321, Recall: 0.9429304788636408\n",
            "Epoch 17 Loss: 0.006634082693165654, Accuracy: 0.9571499750871948, Precision: 0.9540036141812905, Recall: 0.9541911022281007\n",
            "Epoch 18 Loss: 0.007168436399408899, Accuracy: 0.953662182361734, Precision: 0.9498083015602974, Recall: 0.9487251662979261\n",
            "Epoch 19 Loss: 0.01805528890850327, Accuracy: 0.9431988041853513, Precision: 0.942422202722463, Recall: 0.9383069167066532\n"
          ]
        }
      ],
      "source": [
        "for epoch in range(20):\n",
        "        cnn_model.train()\n",
        "        running_loss = 0.0\n",
        "        for inputs, labels in train_loader:\n",
        "            # inputs = inputs.to(device)\n",
        "            # labels = labels.to(device)\n",
        "            optimizer.zero_grad()\n",
        "            outputs = cnn_model(inputs)\n",
        "            loss = loss_fn(outputs, labels)\n",
        "            loss.backward()\n",
        "            optimizer.step()\n",
        "            running_loss += loss.item()\n",
        "\n",
        "\n",
        "        cnn_writer.add_scalar('Loss/train', running_loss / len(train_loader), epoch)\n",
        "\n",
        "\n",
        "        cnn_accuracy, cnn_precision,cnn_recall, cnn_cm = evaluate_model(cnn_model, test_loader)\n",
        "\n",
        "\n",
        "        cnn_writer.add_scalar('Accuracy/test', cnn_accuracy, epoch)\n",
        "        cnn_writer.add_scalar('Precision/test',cnn_precision, epoch)\n",
        "        cnn_writer.add_scalar('Recall/test', cnn_recall, epoch)\n",
        "\n",
        "        print(f\"Epoch {epoch} Loss: {running_loss / len(train_loader)}, Accuracy: {cnn_accuracy}, Precision: {cnn_precision}, Recall: {cnn_recall}\")\n"
      ]
    },
    {
      "cell_type": "code",
      "execution_count": 27,
      "metadata": {
        "id": "aXj5a3tqD3BW"
      },
      "outputs": [],
      "source": [
        "cnn_writer.close()"
      ]
    },
    {
      "cell_type": "code",
      "execution_count": 28,
      "metadata": {
        "colab": {
          "base_uri": "https://localhost:8080/"
        },
        "id": "9ejECxbhGGFD",
        "outputId": "bcd1d1de-6af8-4bb0-fbe5-2e8f3c10a1d1"
      },
      "outputs": [
        {
          "name": "stdout",
          "output_type": "stream",
          "text": [
            "CNN Results:\n",
            "Accuracy: 0.9431988041853513\n",
            "Precision: 0.942422202722463\n",
            "Recall: 0.9383069167066532\n",
            "Confusion Matrix:\n",
            "[[349   0   2   0   3   3   0   0   2   0]\n",
            " [  0 259   0   0   4   0   1   0   0   0]\n",
            " [  1   0 178   0   6   4   0   1   8   0]\n",
            " [  0   0   0 140   1  21   0   0   4   0]\n",
            " [  0   2   2   1 190   3   0   1   1   0]\n",
            " [  1   0   0   2   0 157   0   0   0   0]\n",
            " [  0   0   0   0   5  10 153   0   2   0]\n",
            " [  0   0   1   1   6   1   0 136   1   1]\n",
            " [  1   0   0   0   1   1   0   0 163   0]\n",
            " [  0   1   0   1   2   0   0   0   5 168]]\n"
          ]
        }
      ],
      "source": [
        "print(\"CNN Results:\")\n",
        "print(\"Accuracy:\", cnn_accuracy)\n",
        "print(\"Precision:\", cnn_precision)\n",
        "print(\"Recall:\", cnn_recall)\n",
        "print(\"Confusion Matrix:\")\n",
        "print(cnn_cm)\n"
      ]
    },
    {
      "cell_type": "code",
      "execution_count": 29,
      "metadata": {
        "id": "4aClPOdJHX67"
      },
      "outputs": [],
      "source": [
        "%load_ext tensorboard"
      ]
    },
    {
      "cell_type": "code",
      "execution_count": 30,
      "metadata": {
        "colab": {
          "base_uri": "https://localhost:8080/"
        },
        "id": "SBIxqKWSHzbY",
        "outputId": "5d767fbf-0811-4cea-fe11-536834bacbc7"
      },
      "outputs": [
        {
          "name": "stdout",
          "output_type": "stream",
          "text": [
            "/bin/bash: line 1: kill: (1850) - No such process\n"
          ]
        }
      ],
      "source": [
        "!kill 1850"
      ]
    },
    {
      "cell_type": "code",
      "execution_count": null,
      "metadata": {
        "id": "zMds1cHxG0OL"
      },
      "outputs": [],
      "source": [
        "tensorboard --logdir=logs\n"
      ]
    },
    {
      "cell_type": "markdown",
      "metadata": {
        "id": "YKwxJzfKIDCI"
      },
      "source": [
        "### MLP model"
      ]
    },
    {
      "cell_type": "code",
      "execution_count": 32,
      "metadata": {
        "id": "y0YQ-OqHHb4q"
      },
      "outputs": [],
      "source": [
        "class MLP(nn.Module):\n",
        "    def __init__(self, input_size, hidden_size, num_classes):\n",
        "        super(MLP, self).__init__()\n",
        "        self.fc1 = nn.Linear(input_size, hidden_size)\n",
        "        self.fc2 = nn.Linear(hidden_size, num_classes)\n",
        "\n",
        "    def forward(self, x):\n",
        "        x = torch.flatten(x, 1)\n",
        "        x = torch.relu(self.fc1(x))\n",
        "        x = self.fc2(x)\n",
        "        return x"
      ]
    },
    {
      "cell_type": "code",
      "execution_count": 39,
      "metadata": {
        "id": "VWy0avNVILKM"
      },
      "outputs": [],
      "source": [
        "mlp_model = MLP(input_size=256, hidden_size=128, num_classes=10)\n"
      ]
    },
    {
      "cell_type": "code",
      "execution_count": 40,
      "metadata": {
        "id": "oSl3caqqISaF"
      },
      "outputs": [],
      "source": [
        "loss_fn = nn.CrossEntropyLoss()\n",
        "optimizer = optim.Adam(cnn_model.parameters(), lr=0.001)"
      ]
    },
    {
      "cell_type": "markdown",
      "metadata": {
        "id": "kpOqgafIKWBM"
      },
      "source": []
    },
    {
      "cell_type": "code",
      "execution_count": 41,
      "metadata": {
        "id": "xGFup8UjI6oa"
      },
      "outputs": [],
      "source": [
        "mlp_writer = SummaryWriter('logs/mlp')"
      ]
    },
    {
      "cell_type": "code",
      "execution_count": 42,
      "metadata": {
        "id": "MwgQtXaxJKA8"
      },
      "outputs": [],
      "source": [
        "def evaluate_model(model, dataloader):\n",
        "    model.eval()\n",
        "    all_labels = []\n",
        "    all_preds = []\n",
        "    with torch.no_grad():\n",
        "        for inputs, labels in dataloader:\n",
        "            # inputs = inputs.to(device)\n",
        "            # labels = labels.to(device)\n",
        "            outputs = model(inputs)\n",
        "            _, predicted = torch.max(outputs, 1)\n",
        "            all_labels.extend(labels.numpy())\n",
        "            all_preds.extend(predicted.numpy())\n",
        "    accuracy = accuracy_score(all_labels, all_preds)\n",
        "    precision = precision_score(all_labels, all_preds, average='macro')\n",
        "    recall = recall_score(all_labels, all_preds, average='macro')\n",
        "    cm = confusion_matrix(all_labels, all_preds)\n",
        "    return accuracy, precision, recall, cm"
      ]
    },
    {
      "cell_type": "code",
      "execution_count": 43,
      "metadata": {
        "colab": {
          "base_uri": "https://localhost:8080/"
        },
        "id": "WHp5JtHJJSYZ",
        "outputId": "5bf2c804-b6c1-456d-ce6a-1ca449e366cd"
      },
      "outputs": [
        {
          "name": "stdout",
          "output_type": "stream",
          "text": [
            "Epoch 0 Loss: 2.3307049148961116, Accuracy: 0.9431988041853513, Precision: 0.942422202722463, Recall: 0.9383069167066532\n",
            "Epoch 1 Loss: 2.330693663212291, Accuracy: 0.9431988041853513, Precision: 0.942422202722463, Recall: 0.9383069167066532\n",
            "Epoch 2 Loss: 2.330696833761115, Accuracy: 0.9431988041853513, Precision: 0.942422202722463, Recall: 0.9383069167066532\n",
            "Epoch 3 Loss: 2.330665427341796, Accuracy: 0.9431988041853513, Precision: 0.942422202722463, Recall: 0.9383069167066532\n",
            "Epoch 4 Loss: 2.330706602648685, Accuracy: 0.9431988041853513, Precision: 0.942422202722463, Recall: 0.9383069167066532\n",
            "Epoch 5 Loss: 2.33070254953284, Accuracy: 0.9431988041853513, Precision: 0.942422202722463, Recall: 0.9383069167066532\n",
            "Epoch 6 Loss: 2.330670689281664, Accuracy: 0.9431988041853513, Precision: 0.942422202722463, Recall: 0.9383069167066532\n",
            "Epoch 7 Loss: 2.3306830640424763, Accuracy: 0.9431988041853513, Precision: 0.942422202722463, Recall: 0.9383069167066532\n",
            "Epoch 8 Loss: 2.330690720625091, Accuracy: 0.9431988041853513, Precision: 0.942422202722463, Recall: 0.9383069167066532\n",
            "Epoch 9 Loss: 2.330669647768924, Accuracy: 0.9431988041853513, Precision: 0.942422202722463, Recall: 0.9383069167066532\n",
            "Epoch 10 Loss: 2.3306542603593123, Accuracy: 0.9431988041853513, Precision: 0.942422202722463, Recall: 0.9383069167066532\n",
            "Epoch 11 Loss: 2.3306861728952644, Accuracy: 0.9431988041853513, Precision: 0.942422202722463, Recall: 0.9383069167066532\n",
            "Epoch 12 Loss: 2.3306749672220466, Accuracy: 0.9431988041853513, Precision: 0.942422202722463, Recall: 0.9383069167066532\n",
            "Epoch 13 Loss: 2.3307015550763985, Accuracy: 0.9431988041853513, Precision: 0.942422202722463, Recall: 0.9383069167066532\n",
            "Epoch 14 Loss: 2.3307171955443264, Accuracy: 0.9431988041853513, Precision: 0.942422202722463, Recall: 0.9383069167066532\n",
            "Epoch 15 Loss: 2.330700613950428, Accuracy: 0.9431988041853513, Precision: 0.942422202722463, Recall: 0.9383069167066532\n",
            "Epoch 16 Loss: 2.3306870157258555, Accuracy: 0.9431988041853513, Precision: 0.942422202722463, Recall: 0.9383069167066532\n",
            "Epoch 17 Loss: 2.3306708900552047, Accuracy: 0.9431988041853513, Precision: 0.942422202722463, Recall: 0.9383069167066532\n",
            "Epoch 18 Loss: 2.330672205540172, Accuracy: 0.9431988041853513, Precision: 0.942422202722463, Recall: 0.9383069167066532\n",
            "Epoch 19 Loss: 2.3306666779936407, Accuracy: 0.9431988041853513, Precision: 0.942422202722463, Recall: 0.9383069167066532\n"
          ]
        }
      ],
      "source": [
        "for epoch in range(20):\n",
        "        mlp_model.train()\n",
        "        running_loss = 0.0\n",
        "        for inputs, labels in train_loader:\n",
        "            # inputs = inputs.to(device)\n",
        "            # labels = labels.to(device)\n",
        "            optimizer.zero_grad()\n",
        "            outputs = mlp_model(inputs)\n",
        "            loss = loss_fn(outputs, labels)\n",
        "            loss.backward()\n",
        "            optimizer.step()\n",
        "            running_loss += loss.item()\n",
        "\n",
        "\n",
        "        mlp_writer.add_scalar('Loss/train', running_loss / len(train_loader), epoch)\n",
        "\n",
        "\n",
        "        mlp_accuracy, mlp_precision,nlp_recall, mlp_cm = evaluate_model(mlp_model, test_loader)\n",
        "\n",
        "\n",
        "        cnn_writer.add_scalar('Accuracy/test', cnn_accuracy, epoch)\n",
        "        cnn_writer.add_scalar('Precision/test',cnn_precision, epoch)\n",
        "        cnn_writer.add_scalar('Recall/test', cnn_recall, epoch)\n",
        "\n",
        "        print(f\"Epoch {epoch} Loss: {running_loss / len(train_loader)}, Accuracy: {cnn_accuracy}, Precision: {cnn_precision}, Recall: {cnn_recall}\")\n"
      ]
    },
    {
      "cell_type": "code",
      "execution_count": 44,
      "metadata": {
        "id": "SOOX05WwJhSz"
      },
      "outputs": [],
      "source": [
        "mlp_writer.close()"
      ]
    },
    {
      "cell_type": "code",
      "execution_count": 45,
      "metadata": {
        "colab": {
          "base_uri": "https://localhost:8080/"
        },
        "id": "bvZHBfw0KxF6",
        "outputId": "77d9b9e5-5240-403d-8449-e4c0266b8653"
      },
      "outputs": [
        {
          "name": "stdout",
          "output_type": "stream",
          "text": [
            "CNN Results:\n",
            "Accuracy: 0.9431988041853513\n",
            "Precision: 0.942422202722463\n",
            "Recall: 0.9383069167066532\n",
            "Confusion Matrix:\n",
            "[[349   0   2   0   3   3   0   0   2   0]\n",
            " [  0 259   0   0   4   0   1   0   0   0]\n",
            " [  1   0 178   0   6   4   0   1   8   0]\n",
            " [  0   0   0 140   1  21   0   0   4   0]\n",
            " [  0   2   2   1 190   3   0   1   1   0]\n",
            " [  1   0   0   2   0 157   0   0   0   0]\n",
            " [  0   0   0   0   5  10 153   0   2   0]\n",
            " [  0   0   1   1   6   1   0 136   1   1]\n",
            " [  1   0   0   0   1   1   0   0 163   0]\n",
            " [  0   1   0   1   2   0   0   0   5 168]]\n"
          ]
        }
      ],
      "source": [
        "print(\"CNN Results:\")\n",
        "print(\"Accuracy:\", cnn_accuracy)\n",
        "print(\"Precision:\", cnn_precision)\n",
        "print(\"Recall:\", cnn_recall)\n",
        "print(\"Confusion Matrix:\")\n",
        "print(cnn_cm)\n"
      ]
    },
    {
      "cell_type": "code",
      "execution_count": 46,
      "metadata": {
        "colab": {
          "base_uri": "https://localhost:8080/"
        },
        "id": "6VYzPWqdK19U",
        "outputId": "486927a5-3a38-421b-da1b-dde8eaf8c827"
      },
      "outputs": [
        {
          "name": "stdout",
          "output_type": "stream",
          "text": [
            "The tensorboard extension is already loaded. To reload it, use:\n",
            "  %reload_ext tensorboard\n"
          ]
        }
      ],
      "source": [
        "%load_ext tensorboard"
      ]
    },
    {
      "cell_type": "code",
      "execution_count": 48,
      "metadata": {
        "id": "_osgtxuBLN3x"
      },
      "outputs": [],
      "source": [
        "!kill 1705"
      ]
    },
    {
      "cell_type": "code",
      "execution_count": null,
      "metadata": {
        "id": "h2gwwxa9LHvh"
      },
      "outputs": [],
      "source": [
        "tensorboard --logdir=logs\n"
      ]
    },
    {
      "cell_type": "code",
      "execution_count": null,
      "metadata": {
        "id": "gLEEcemMLLFW"
      },
      "outputs": [],
      "source": []
    }
  ],
  "metadata": {
    "accelerator": "GPU",
    "colab": {
      "gpuType": "T4",
      "provenance": []
    },
    "kernelspec": {
      "display_name": "Python 3",
      "name": "python3"
    },
    "language_info": {
      "name": "python",
      "version": "3.10.13"
    }
  },
  "nbformat": 4,
  "nbformat_minor": 0
}
